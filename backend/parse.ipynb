{
 "metadata": {
  "language_info": {
   "codemirror_mode": {
    "name": "ipython",
    "version": 3
   },
   "file_extension": ".py",
   "mimetype": "text/x-python",
   "name": "python",
   "nbconvert_exporter": "python",
   "pygments_lexer": "ipython3",
   "version": "3.8.5-final"
  },
  "orig_nbformat": 2,
  "kernelspec": {
   "name": "Python 3.8.5 32-bit",
   "display_name": "Python 3.8.5 32-bit",
   "metadata": {
    "interpreter": {
     "hash": "97230749798b333fb7eb99f8b97daf9e8b9eee74cb1cff50e634fbb389d792e1"
    }
   }
  }
 },
 "nbformat": 4,
 "nbformat_minor": 2,
 "cells": [
  {
   "cell_type": "code",
   "execution_count": 1,
   "metadata": {},
   "outputs": [],
   "source": [
    "from pprint import pprint as pp\n",
    "from datetime import datetime, timedelta\n",
    "import requests\n",
    "import pandas as pd"
   ]
  },
  {
   "cell_type": "code",
   "execution_count": 67,
   "metadata": {},
   "outputs": [],
   "source": [
    "history_url = \"https://covid-193.p.rapidapi.com/history\"\n",
    "\n",
    "# https://rapidapi.com/api-sports/api/covid-193/endpoints\n",
    "\n",
    "def get_by_country(country_name: str, day_str: str):\n",
    "    # day format: YYYY-MM-DD\n",
    "    querystring = {\"day\": day_str,\"country\":country_name}\n",
    "    response = requests.request(\"GET\", history_url, headers=headers, params=querystring)\n",
    "    return response\n",
    "\n",
    "# get_by_country(day_str=\"2020-10-13\", country_name='usa').json()"
   ]
  },
  {
   "cell_type": "code",
   "execution_count": 3,
   "metadata": {},
   "outputs": [],
   "source": [
    "df = pd.read_csv('data/covid-data.csv')"
   ]
  },
  {
   "cell_type": "code",
   "execution_count": 4,
   "metadata": {},
   "outputs": [],
   "source": [
    "countries = df.groupby(by='location').count().index.tolist()"
   ]
  },
  {
   "cell_type": "code",
   "execution_count": 8,
   "metadata": {},
   "outputs": [
    {
     "output_type": "stream",
     "name": "stdout",
     "text": [
      "2019-12-31 2020-10-13\n"
     ]
    }
   ],
   "source": [
    "dates_str = list(set(df['date']))\n",
    "print(sorted(dates_str)[0], sorted(dates_str)[-1])"
   ]
  },
  {
   "source": [
    "## Get stats by country:"
   ],
   "cell_type": "markdown",
   "metadata": {}
  },
  {
   "cell_type": "code",
   "execution_count": 14,
   "metadata": {},
   "outputs": [],
   "source": [
    "df = pd.read_csv('data/covid-data.csv')\n",
    "df_total = df[df['location'] == 'World']\n",
    "df_total = df_total[['date', 'location', 'total_cases', 'new_cases', 'new_cases_smoothed', 'total_deaths', 'new_deaths', 'new_deaths_smoothed']]"
   ]
  },
  {
   "cell_type": "code",
   "execution_count": 15,
   "metadata": {},
   "outputs": [
    {
     "output_type": "execute_result",
     "data": {
      "text/plain": [
       "             date location  total_cases  new_cases  new_cases_smoothed  \\\n",
       "49302  2019-12-31    World         27.0       27.0                 NaN   \n",
       "49303  2020-01-01    World         27.0        0.0                 NaN   \n",
       "49304  2020-01-02    World         27.0        0.0                 NaN   \n",
       "49305  2020-01-03    World         44.0       17.0                 NaN   \n",
       "49306  2020-01-04    World         44.0        0.0                 NaN   \n",
       "...           ...      ...          ...        ...                 ...   \n",
       "49585  2020-10-09    World   36611917.0   387973.0          320160.286   \n",
       "49586  2020-10-10    World   36956458.0   344541.0          323840.714   \n",
       "49587  2020-10-11    World   37296383.0   339925.0          328909.571   \n",
       "49588  2020-10-12    World   37602785.0   306402.0          332232.000   \n",
       "49589  2020-10-13    World   37875422.0   272637.0          332831.571   \n",
       "\n",
       "       total_deaths  new_deaths  new_deaths_smoothed  \n",
       "49302           0.0         0.0                  NaN  \n",
       "49303           0.0         0.0                  NaN  \n",
       "49304           0.0         0.0                  NaN  \n",
       "49305           0.0         0.0                  NaN  \n",
       "49306           0.0         0.0                  NaN  \n",
       "...             ...         ...                  ...  \n",
       "49585     1063243.0      9118.0             5606.714  \n",
       "49586     1068963.0      5720.0             5633.286  \n",
       "49587     1073683.0      4720.0             5633.143  \n",
       "49588     1077720.0      4037.0             5643.429  \n",
       "49589     1081632.0      3912.0             5566.143  \n",
       "\n",
       "[288 rows x 8 columns]"
      ],
      "text/html": "<div>\n<style scoped>\n    .dataframe tbody tr th:only-of-type {\n        vertical-align: middle;\n    }\n\n    .dataframe tbody tr th {\n        vertical-align: top;\n    }\n\n    .dataframe thead th {\n        text-align: right;\n    }\n</style>\n<table border=\"1\" class=\"dataframe\">\n  <thead>\n    <tr style=\"text-align: right;\">\n      <th></th>\n      <th>date</th>\n      <th>location</th>\n      <th>total_cases</th>\n      <th>new_cases</th>\n      <th>new_cases_smoothed</th>\n      <th>total_deaths</th>\n      <th>new_deaths</th>\n      <th>new_deaths_smoothed</th>\n    </tr>\n  </thead>\n  <tbody>\n    <tr>\n      <th>49302</th>\n      <td>2019-12-31</td>\n      <td>World</td>\n      <td>27.0</td>\n      <td>27.0</td>\n      <td>NaN</td>\n      <td>0.0</td>\n      <td>0.0</td>\n      <td>NaN</td>\n    </tr>\n    <tr>\n      <th>49303</th>\n      <td>2020-01-01</td>\n      <td>World</td>\n      <td>27.0</td>\n      <td>0.0</td>\n      <td>NaN</td>\n      <td>0.0</td>\n      <td>0.0</td>\n      <td>NaN</td>\n    </tr>\n    <tr>\n      <th>49304</th>\n      <td>2020-01-02</td>\n      <td>World</td>\n      <td>27.0</td>\n      <td>0.0</td>\n      <td>NaN</td>\n      <td>0.0</td>\n      <td>0.0</td>\n      <td>NaN</td>\n    </tr>\n    <tr>\n      <th>49305</th>\n      <td>2020-01-03</td>\n      <td>World</td>\n      <td>44.0</td>\n      <td>17.0</td>\n      <td>NaN</td>\n      <td>0.0</td>\n      <td>0.0</td>\n      <td>NaN</td>\n    </tr>\n    <tr>\n      <th>49306</th>\n      <td>2020-01-04</td>\n      <td>World</td>\n      <td>44.0</td>\n      <td>0.0</td>\n      <td>NaN</td>\n      <td>0.0</td>\n      <td>0.0</td>\n      <td>NaN</td>\n    </tr>\n    <tr>\n      <th>...</th>\n      <td>...</td>\n      <td>...</td>\n      <td>...</td>\n      <td>...</td>\n      <td>...</td>\n      <td>...</td>\n      <td>...</td>\n      <td>...</td>\n    </tr>\n    <tr>\n      <th>49585</th>\n      <td>2020-10-09</td>\n      <td>World</td>\n      <td>36611917.0</td>\n      <td>387973.0</td>\n      <td>320160.286</td>\n      <td>1063243.0</td>\n      <td>9118.0</td>\n      <td>5606.714</td>\n    </tr>\n    <tr>\n      <th>49586</th>\n      <td>2020-10-10</td>\n      <td>World</td>\n      <td>36956458.0</td>\n      <td>344541.0</td>\n      <td>323840.714</td>\n      <td>1068963.0</td>\n      <td>5720.0</td>\n      <td>5633.286</td>\n    </tr>\n    <tr>\n      <th>49587</th>\n      <td>2020-10-11</td>\n      <td>World</td>\n      <td>37296383.0</td>\n      <td>339925.0</td>\n      <td>328909.571</td>\n      <td>1073683.0</td>\n      <td>4720.0</td>\n      <td>5633.143</td>\n    </tr>\n    <tr>\n      <th>49588</th>\n      <td>2020-10-12</td>\n      <td>World</td>\n      <td>37602785.0</td>\n      <td>306402.0</td>\n      <td>332232.000</td>\n      <td>1077720.0</td>\n      <td>4037.0</td>\n      <td>5643.429</td>\n    </tr>\n    <tr>\n      <th>49589</th>\n      <td>2020-10-13</td>\n      <td>World</td>\n      <td>37875422.0</td>\n      <td>272637.0</td>\n      <td>332831.571</td>\n      <td>1081632.0</td>\n      <td>3912.0</td>\n      <td>5566.143</td>\n    </tr>\n  </tbody>\n</table>\n<p>288 rows × 8 columns</p>\n</div>"
     },
     "metadata": {},
     "execution_count": 15
    }
   ],
   "source": [
    "df_total"
   ]
  },
  {
   "cell_type": "code",
   "execution_count": null,
   "metadata": {},
   "outputs": [],
   "source": []
  }
 ]
}