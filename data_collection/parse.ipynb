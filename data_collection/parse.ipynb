{
 "metadata": {
  "language_info": {
   "codemirror_mode": {
    "name": "ipython",
    "version": 3
   },
   "file_extension": ".py",
   "mimetype": "text/x-python",
   "name": "python",
   "nbconvert_exporter": "python",
   "pygments_lexer": "ipython3",
   "version": "3.8.5-final"
  },
  "orig_nbformat": 2,
  "kernelspec": {
   "name": "Python 3.8.5 32-bit",
   "display_name": "Python 3.8.5 32-bit",
   "metadata": {
    "interpreter": {
     "hash": "97230749798b333fb7eb99f8b97daf9e8b9eee74cb1cff50e634fbb389d792e1"
    }
   }
  }
 },
 "nbformat": 4,
 "nbformat_minor": 2,
 "cells": [
  {
   "cell_type": "code",
   "execution_count": 2,
   "metadata": {},
   "outputs": [],
   "source": [
    "from pprint import pprint as pp\n",
    "from datetime import datetime, timedelta\n",
    "import requests\n",
    "import pandas as pd"
   ]
  },
  {
   "cell_type": "code",
   "execution_count": 33,
   "metadata": {},
   "outputs": [],
   "source": [
    "url = \"https://covid-193.p.rapidapi.com/countries\"\n",
    "\n",
    "headers = {\n",
    "    'x-rapidapi-host': \"covid-193.p.rapidapi.com\",\n",
    "    'x-rapidapi-key': \"96c9bf6347mshaa70842b22ac472p17ea96jsncd83f482d9aa\"\n",
    "    }\n",
    "response = requests.request(\"GET\", url, headers=headers)\n",
    "countries = response.json()['response']"
   ]
  },
  {
   "cell_type": "code",
   "execution_count": 67,
   "metadata": {},
   "outputs": [],
   "source": [
    "history_url = \"https://covid-193.p.rapidapi.com/history\"\n",
    "\n",
    "def get_by_country(country_name: str, day_str: str):\n",
    "    # day format: YYYY-MM-DD\n",
    "    querystring = {\"day\": day_str,\"country\":country_name}\n",
    "    response = requests.request(\"GET\", history_url, headers=headers, params=querystring)\n",
    "    return response\n",
    "\n",
    "# get_by_country(day_str=\"2020-10-13\", country_name='usa').json()"
   ]
  },
  {
   "cell_type": "code",
   "execution_count": 3,
   "metadata": {},
   "outputs": [],
   "source": [
    "df = pd.read_csv('data/covid-data.csv')"
   ]
  },
  {
   "cell_type": "code",
   "execution_count": 3,
   "metadata": {},
   "outputs": [
    {
     "output_type": "execute_result",
     "data": {
      "text/plain": [
       "      iso_code continent location        date  total_cases  new_cases  \\\n",
       "38565      RUS    Europe   Russia  2019-12-31          0.0        0.0   \n",
       "38566      RUS    Europe   Russia  2020-01-01          0.0        0.0   \n",
       "38567      RUS    Europe   Russia  2020-01-02          0.0        0.0   \n",
       "38568      RUS    Europe   Russia  2020-01-03          0.0        0.0   \n",
       "38569      RUS    Europe   Russia  2020-01-04          0.0        0.0   \n",
       "...        ...       ...      ...         ...          ...        ...   \n",
       "38848      RUS    Europe   Russia  2020-10-09    1260112.0    11493.0   \n",
       "38849      RUS    Europe   Russia  2020-10-10    1272238.0    12126.0   \n",
       "38850      RUS    Europe   Russia  2020-10-11    1285084.0    12846.0   \n",
       "38851      RUS    Europe   Russia  2020-10-12    1298718.0    13634.0   \n",
       "38852      RUS    Europe   Russia  2020-10-13    1312310.0    13592.0   \n",
       "\n",
       "       new_cases_smoothed  total_deaths  new_deaths  new_deaths_smoothed  ...  \\\n",
       "38565                 NaN           0.0         0.0                  NaN  ...   \n",
       "38566                 NaN           0.0         0.0                  NaN  ...   \n",
       "38567                 NaN           0.0         0.0                  NaN  ...   \n",
       "38568                 NaN           0.0         0.0                  NaN  ...   \n",
       "38569                 NaN           0.0         0.0                  NaN  ...   \n",
       "...                   ...           ...         ...                  ...  ...   \n",
       "38848           10697.286       22056.0       191.0              166.429  ...   \n",
       "38849           11085.000       22257.0       201.0              168.571  ...   \n",
       "38850           11511.714       22454.0       197.0              171.857  ...   \n",
       "38851           11959.571       22597.0       143.0              177.000  ...   \n",
       "38852           12345.857       22722.0       125.0              178.143  ...   \n",
       "\n",
       "       gdp_per_capita  extreme_poverty  cardiovasc_death_rate  \\\n",
       "38565       24765.954              0.1                431.297   \n",
       "38566       24765.954              0.1                431.297   \n",
       "38567       24765.954              0.1                431.297   \n",
       "38568       24765.954              0.1                431.297   \n",
       "38569       24765.954              0.1                431.297   \n",
       "...               ...              ...                    ...   \n",
       "38848       24765.954              0.1                431.297   \n",
       "38849       24765.954              0.1                431.297   \n",
       "38850       24765.954              0.1                431.297   \n",
       "38851       24765.954              0.1                431.297   \n",
       "38852       24765.954              0.1                431.297   \n",
       "\n",
       "       diabetes_prevalence  female_smokers  male_smokers  \\\n",
       "38565                 6.18            23.4          58.3   \n",
       "38566                 6.18            23.4          58.3   \n",
       "38567                 6.18            23.4          58.3   \n",
       "38568                 6.18            23.4          58.3   \n",
       "38569                 6.18            23.4          58.3   \n",
       "...                    ...             ...           ...   \n",
       "38848                 6.18            23.4          58.3   \n",
       "38849                 6.18            23.4          58.3   \n",
       "38850                 6.18            23.4          58.3   \n",
       "38851                 6.18            23.4          58.3   \n",
       "38852                 6.18            23.4          58.3   \n",
       "\n",
       "       handwashing_facilities  hospital_beds_per_thousand  life_expectancy  \\\n",
       "38565                     NaN                        8.05            72.58   \n",
       "38566                     NaN                        8.05            72.58   \n",
       "38567                     NaN                        8.05            72.58   \n",
       "38568                     NaN                        8.05            72.58   \n",
       "38569                     NaN                        8.05            72.58   \n",
       "...                       ...                         ...              ...   \n",
       "38848                     NaN                        8.05            72.58   \n",
       "38849                     NaN                        8.05            72.58   \n",
       "38850                     NaN                        8.05            72.58   \n",
       "38851                     NaN                        8.05            72.58   \n",
       "38852                     NaN                        8.05            72.58   \n",
       "\n",
       "       human_development_index  \n",
       "38565                    0.816  \n",
       "38566                    0.816  \n",
       "38567                    0.816  \n",
       "38568                    0.816  \n",
       "38569                    0.816  \n",
       "...                        ...  \n",
       "38848                    0.816  \n",
       "38849                    0.816  \n",
       "38850                    0.816  \n",
       "38851                    0.816  \n",
       "38852                    0.816  \n",
       "\n",
       "[288 rows x 41 columns]"
      ],
      "text/html": "<div>\n<style scoped>\n    .dataframe tbody tr th:only-of-type {\n        vertical-align: middle;\n    }\n\n    .dataframe tbody tr th {\n        vertical-align: top;\n    }\n\n    .dataframe thead th {\n        text-align: right;\n    }\n</style>\n<table border=\"1\" class=\"dataframe\">\n  <thead>\n    <tr style=\"text-align: right;\">\n      <th></th>\n      <th>iso_code</th>\n      <th>continent</th>\n      <th>location</th>\n      <th>date</th>\n      <th>total_cases</th>\n      <th>new_cases</th>\n      <th>new_cases_smoothed</th>\n      <th>total_deaths</th>\n      <th>new_deaths</th>\n      <th>new_deaths_smoothed</th>\n      <th>...</th>\n      <th>gdp_per_capita</th>\n      <th>extreme_poverty</th>\n      <th>cardiovasc_death_rate</th>\n      <th>diabetes_prevalence</th>\n      <th>female_smokers</th>\n      <th>male_smokers</th>\n      <th>handwashing_facilities</th>\n      <th>hospital_beds_per_thousand</th>\n      <th>life_expectancy</th>\n      <th>human_development_index</th>\n    </tr>\n  </thead>\n  <tbody>\n    <tr>\n      <th>38565</th>\n      <td>RUS</td>\n      <td>Europe</td>\n      <td>Russia</td>\n      <td>2019-12-31</td>\n      <td>0.0</td>\n      <td>0.0</td>\n      <td>NaN</td>\n      <td>0.0</td>\n      <td>0.0</td>\n      <td>NaN</td>\n      <td>...</td>\n      <td>24765.954</td>\n      <td>0.1</td>\n      <td>431.297</td>\n      <td>6.18</td>\n      <td>23.4</td>\n      <td>58.3</td>\n      <td>NaN</td>\n      <td>8.05</td>\n      <td>72.58</td>\n      <td>0.816</td>\n    </tr>\n    <tr>\n      <th>38566</th>\n      <td>RUS</td>\n      <td>Europe</td>\n      <td>Russia</td>\n      <td>2020-01-01</td>\n      <td>0.0</td>\n      <td>0.0</td>\n      <td>NaN</td>\n      <td>0.0</td>\n      <td>0.0</td>\n      <td>NaN</td>\n      <td>...</td>\n      <td>24765.954</td>\n      <td>0.1</td>\n      <td>431.297</td>\n      <td>6.18</td>\n      <td>23.4</td>\n      <td>58.3</td>\n      <td>NaN</td>\n      <td>8.05</td>\n      <td>72.58</td>\n      <td>0.816</td>\n    </tr>\n    <tr>\n      <th>38567</th>\n      <td>RUS</td>\n      <td>Europe</td>\n      <td>Russia</td>\n      <td>2020-01-02</td>\n      <td>0.0</td>\n      <td>0.0</td>\n      <td>NaN</td>\n      <td>0.0</td>\n      <td>0.0</td>\n      <td>NaN</td>\n      <td>...</td>\n      <td>24765.954</td>\n      <td>0.1</td>\n      <td>431.297</td>\n      <td>6.18</td>\n      <td>23.4</td>\n      <td>58.3</td>\n      <td>NaN</td>\n      <td>8.05</td>\n      <td>72.58</td>\n      <td>0.816</td>\n    </tr>\n    <tr>\n      <th>38568</th>\n      <td>RUS</td>\n      <td>Europe</td>\n      <td>Russia</td>\n      <td>2020-01-03</td>\n      <td>0.0</td>\n      <td>0.0</td>\n      <td>NaN</td>\n      <td>0.0</td>\n      <td>0.0</td>\n      <td>NaN</td>\n      <td>...</td>\n      <td>24765.954</td>\n      <td>0.1</td>\n      <td>431.297</td>\n      <td>6.18</td>\n      <td>23.4</td>\n      <td>58.3</td>\n      <td>NaN</td>\n      <td>8.05</td>\n      <td>72.58</td>\n      <td>0.816</td>\n    </tr>\n    <tr>\n      <th>38569</th>\n      <td>RUS</td>\n      <td>Europe</td>\n      <td>Russia</td>\n      <td>2020-01-04</td>\n      <td>0.0</td>\n      <td>0.0</td>\n      <td>NaN</td>\n      <td>0.0</td>\n      <td>0.0</td>\n      <td>NaN</td>\n      <td>...</td>\n      <td>24765.954</td>\n      <td>0.1</td>\n      <td>431.297</td>\n      <td>6.18</td>\n      <td>23.4</td>\n      <td>58.3</td>\n      <td>NaN</td>\n      <td>8.05</td>\n      <td>72.58</td>\n      <td>0.816</td>\n    </tr>\n    <tr>\n      <th>...</th>\n      <td>...</td>\n      <td>...</td>\n      <td>...</td>\n      <td>...</td>\n      <td>...</td>\n      <td>...</td>\n      <td>...</td>\n      <td>...</td>\n      <td>...</td>\n      <td>...</td>\n      <td>...</td>\n      <td>...</td>\n      <td>...</td>\n      <td>...</td>\n      <td>...</td>\n      <td>...</td>\n      <td>...</td>\n      <td>...</td>\n      <td>...</td>\n      <td>...</td>\n      <td>...</td>\n    </tr>\n    <tr>\n      <th>38848</th>\n      <td>RUS</td>\n      <td>Europe</td>\n      <td>Russia</td>\n      <td>2020-10-09</td>\n      <td>1260112.0</td>\n      <td>11493.0</td>\n      <td>10697.286</td>\n      <td>22056.0</td>\n      <td>191.0</td>\n      <td>166.429</td>\n      <td>...</td>\n      <td>24765.954</td>\n      <td>0.1</td>\n      <td>431.297</td>\n      <td>6.18</td>\n      <td>23.4</td>\n      <td>58.3</td>\n      <td>NaN</td>\n      <td>8.05</td>\n      <td>72.58</td>\n      <td>0.816</td>\n    </tr>\n    <tr>\n      <th>38849</th>\n      <td>RUS</td>\n      <td>Europe</td>\n      <td>Russia</td>\n      <td>2020-10-10</td>\n      <td>1272238.0</td>\n      <td>12126.0</td>\n      <td>11085.000</td>\n      <td>22257.0</td>\n      <td>201.0</td>\n      <td>168.571</td>\n      <td>...</td>\n      <td>24765.954</td>\n      <td>0.1</td>\n      <td>431.297</td>\n      <td>6.18</td>\n      <td>23.4</td>\n      <td>58.3</td>\n      <td>NaN</td>\n      <td>8.05</td>\n      <td>72.58</td>\n      <td>0.816</td>\n    </tr>\n    <tr>\n      <th>38850</th>\n      <td>RUS</td>\n      <td>Europe</td>\n      <td>Russia</td>\n      <td>2020-10-11</td>\n      <td>1285084.0</td>\n      <td>12846.0</td>\n      <td>11511.714</td>\n      <td>22454.0</td>\n      <td>197.0</td>\n      <td>171.857</td>\n      <td>...</td>\n      <td>24765.954</td>\n      <td>0.1</td>\n      <td>431.297</td>\n      <td>6.18</td>\n      <td>23.4</td>\n      <td>58.3</td>\n      <td>NaN</td>\n      <td>8.05</td>\n      <td>72.58</td>\n      <td>0.816</td>\n    </tr>\n    <tr>\n      <th>38851</th>\n      <td>RUS</td>\n      <td>Europe</td>\n      <td>Russia</td>\n      <td>2020-10-12</td>\n      <td>1298718.0</td>\n      <td>13634.0</td>\n      <td>11959.571</td>\n      <td>22597.0</td>\n      <td>143.0</td>\n      <td>177.000</td>\n      <td>...</td>\n      <td>24765.954</td>\n      <td>0.1</td>\n      <td>431.297</td>\n      <td>6.18</td>\n      <td>23.4</td>\n      <td>58.3</td>\n      <td>NaN</td>\n      <td>8.05</td>\n      <td>72.58</td>\n      <td>0.816</td>\n    </tr>\n    <tr>\n      <th>38852</th>\n      <td>RUS</td>\n      <td>Europe</td>\n      <td>Russia</td>\n      <td>2020-10-13</td>\n      <td>1312310.0</td>\n      <td>13592.0</td>\n      <td>12345.857</td>\n      <td>22722.0</td>\n      <td>125.0</td>\n      <td>178.143</td>\n      <td>...</td>\n      <td>24765.954</td>\n      <td>0.1</td>\n      <td>431.297</td>\n      <td>6.18</td>\n      <td>23.4</td>\n      <td>58.3</td>\n      <td>NaN</td>\n      <td>8.05</td>\n      <td>72.58</td>\n      <td>0.816</td>\n    </tr>\n  </tbody>\n</table>\n<p>288 rows × 41 columns</p>\n</div>"
     },
     "metadata": {},
     "execution_count": 3
    }
   ],
   "source": [
    "df[df['iso_code']=='RUS']"
   ]
  },
  {
   "cell_type": "code",
   "execution_count": 34,
   "metadata": {},
   "outputs": [],
   "source": [
    "countries = df.groupby(by='location').count().index.tolist()"
   ]
  },
  {
   "cell_type": "code",
   "execution_count": 76,
   "metadata": {},
   "outputs": [],
   "source": [
    "dates_str = list(set(df['date']))"
   ]
  },
  {
   "source": [
    "## Total by days"
   ],
   "cell_type": "markdown",
   "metadata": {}
  },
  {
   "cell_type": "code",
   "execution_count": 3,
   "metadata": {},
   "outputs": [
    {
     "output_type": "execute_result",
     "data": {
      "text/plain": [
       "       iso_code continent location        date  total_cases  new_cases  \\\n",
       "49302  OWID_WRL       NaN    World  2019-12-31         27.0       27.0   \n",
       "\n",
       "       new_cases_smoothed  total_deaths  new_deaths  new_deaths_smoothed  ...  \\\n",
       "49302                 NaN           0.0         0.0                  NaN  ...   \n",
       "\n",
       "       gdp_per_capita  extreme_poverty  cardiovasc_death_rate  \\\n",
       "49302       15469.207             10.0                 233.07   \n",
       "\n",
       "       diabetes_prevalence  female_smokers  male_smokers  \\\n",
       "49302                 8.51           6.434        34.635   \n",
       "\n",
       "       handwashing_facilities  hospital_beds_per_thousand  life_expectancy  \\\n",
       "49302                   60.13                       2.705            72.58   \n",
       "\n",
       "       human_development_index  \n",
       "49302                      NaN  \n",
       "\n",
       "[1 rows x 41 columns]"
      ],
      "text/html": "<div>\n<style scoped>\n    .dataframe tbody tr th:only-of-type {\n        vertical-align: middle;\n    }\n\n    .dataframe tbody tr th {\n        vertical-align: top;\n    }\n\n    .dataframe thead th {\n        text-align: right;\n    }\n</style>\n<table border=\"1\" class=\"dataframe\">\n  <thead>\n    <tr style=\"text-align: right;\">\n      <th></th>\n      <th>iso_code</th>\n      <th>continent</th>\n      <th>location</th>\n      <th>date</th>\n      <th>total_cases</th>\n      <th>new_cases</th>\n      <th>new_cases_smoothed</th>\n      <th>total_deaths</th>\n      <th>new_deaths</th>\n      <th>new_deaths_smoothed</th>\n      <th>...</th>\n      <th>gdp_per_capita</th>\n      <th>extreme_poverty</th>\n      <th>cardiovasc_death_rate</th>\n      <th>diabetes_prevalence</th>\n      <th>female_smokers</th>\n      <th>male_smokers</th>\n      <th>handwashing_facilities</th>\n      <th>hospital_beds_per_thousand</th>\n      <th>life_expectancy</th>\n      <th>human_development_index</th>\n    </tr>\n  </thead>\n  <tbody>\n    <tr>\n      <th>49302</th>\n      <td>OWID_WRL</td>\n      <td>NaN</td>\n      <td>World</td>\n      <td>2019-12-31</td>\n      <td>27.0</td>\n      <td>27.0</td>\n      <td>NaN</td>\n      <td>0.0</td>\n      <td>0.0</td>\n      <td>NaN</td>\n      <td>...</td>\n      <td>15469.207</td>\n      <td>10.0</td>\n      <td>233.07</td>\n      <td>8.51</td>\n      <td>6.434</td>\n      <td>34.635</td>\n      <td>60.13</td>\n      <td>2.705</td>\n      <td>72.58</td>\n      <td>NaN</td>\n    </tr>\n  </tbody>\n</table>\n<p>1 rows × 41 columns</p>\n</div>"
     },
     "metadata": {},
     "execution_count": 3
    }
   ],
   "source": [
    "df = pd.read_csv('data/covid-data.csv')\n",
    "df_total = df[df['location'] == 'World']\n",
    "df_total.head(1)"
   ]
  },
  {
   "cell_type": "code",
   "execution_count": 178,
   "metadata": {},
   "outputs": [
    {
     "output_type": "execute_result",
     "data": {
      "text/plain": [
       "Index(['iso_code', 'continent', 'location', 'date', 'total_cases', 'new_cases',\n",
       "       'new_cases_smoothed', 'total_deaths', 'new_deaths',\n",
       "       'new_deaths_smoothed', 'total_cases_per_million',\n",
       "       'new_cases_per_million', 'new_cases_smoothed_per_million',\n",
       "       'total_deaths_per_million', 'new_deaths_per_million',\n",
       "       'new_deaths_smoothed_per_million', 'new_tests', 'total_tests',\n",
       "       'total_tests_per_thousand', 'new_tests_per_thousand',\n",
       "       'new_tests_smoothed', 'new_tests_smoothed_per_thousand',\n",
       "       'tests_per_case', 'positive_rate', 'tests_units', 'stringency_index',\n",
       "       'population', 'population_density', 'median_age', 'aged_65_older',\n",
       "       'aged_70_older', 'gdp_per_capita', 'extreme_poverty',\n",
       "       'cardiovasc_death_rate', 'diabetes_prevalence', 'female_smokers',\n",
       "       'male_smokers', 'handwashing_facilities', 'hospital_beds_per_thousand',\n",
       "       'life_expectancy', 'human_development_index'],\n",
       "      dtype='object')"
      ]
     },
     "metadata": {},
     "execution_count": 178
    }
   ],
   "source": [
    "df_total.columns"
   ]
  },
  {
   "cell_type": "code",
   "execution_count": 5,
   "metadata": {},
   "outputs": [],
   "source": [
    "df_total = df_total[['date', 'total_cases', 'new_cases', 'new_cases_smoothed', 'total_deaths', 'new_deaths', 'new_deaths_smoothed']]"
   ]
  },
  {
   "cell_type": "code",
   "execution_count": 6,
   "metadata": {},
   "outputs": [],
   "source": [
    "df_total = df_total.fillna(0).reset_index(drop=True)"
   ]
  },
  {
   "cell_type": "code",
   "execution_count": 7,
   "metadata": {},
   "outputs": [],
   "source": [
    "df_total.to_csv('data/world_new_cases.csv')"
   ]
  },
  {
   "cell_type": "code",
   "execution_count": 174,
   "metadata": {},
   "outputs": [],
   "source": [
    "# df_total[['date', 'total_cases']].values.tolist()"
   ]
  },
  {
   "cell_type": "code",
   "execution_count": 184,
   "metadata": {},
   "outputs": [],
   "source": [
    "# df_total[['date', 'new_cases']].values.tolist()"
   ]
  },
  {
   "cell_type": "code",
   "execution_count": 190,
   "metadata": {},
   "outputs": [
    {
     "output_type": "execute_result",
     "data": {
      "text/plain": [
       "            location        date  total_cases  new_cases  new_cases_smoothed  \\\n",
       "0              Aruba  2020-03-13          2.0        2.0                 NaN   \n",
       "1              Aruba  2020-03-19          NaN        NaN               0.286   \n",
       "2              Aruba  2020-03-20          4.0        2.0               0.286   \n",
       "3              Aruba  2020-03-21          NaN        NaN               0.286   \n",
       "4              Aruba  2020-03-22          NaN        NaN               0.286   \n",
       "...              ...         ...          ...        ...                 ...   \n",
       "49873  International  2020-10-09        696.0        NaN                 NaN   \n",
       "49874  International  2020-10-10        696.0        NaN                 NaN   \n",
       "49875  International  2020-10-11        696.0        NaN                 NaN   \n",
       "49876  International  2020-10-12        696.0        NaN                 NaN   \n",
       "49877  International  2020-10-13        696.0        NaN                 NaN   \n",
       "\n",
       "       total_deaths  new_deaths  new_deaths_smoothed  \n",
       "0               0.0         0.0                  NaN  \n",
       "1               NaN         NaN                  0.0  \n",
       "2               0.0         0.0                  0.0  \n",
       "3               NaN         NaN                  0.0  \n",
       "4               NaN         NaN                  0.0  \n",
       "...             ...         ...                  ...  \n",
       "49873           7.0         NaN                  NaN  \n",
       "49874           7.0         NaN                  NaN  \n",
       "49875           7.0         NaN                  NaN  \n",
       "49876           7.0         NaN                  NaN  \n",
       "49877           7.0         NaN                  NaN  \n",
       "\n",
       "[49878 rows x 8 columns]"
      ],
      "text/html": "<div>\n<style scoped>\n    .dataframe tbody tr th:only-of-type {\n        vertical-align: middle;\n    }\n\n    .dataframe tbody tr th {\n        vertical-align: top;\n    }\n\n    .dataframe thead th {\n        text-align: right;\n    }\n</style>\n<table border=\"1\" class=\"dataframe\">\n  <thead>\n    <tr style=\"text-align: right;\">\n      <th></th>\n      <th>location</th>\n      <th>date</th>\n      <th>total_cases</th>\n      <th>new_cases</th>\n      <th>new_cases_smoothed</th>\n      <th>total_deaths</th>\n      <th>new_deaths</th>\n      <th>new_deaths_smoothed</th>\n    </tr>\n  </thead>\n  <tbody>\n    <tr>\n      <th>0</th>\n      <td>Aruba</td>\n      <td>2020-03-13</td>\n      <td>2.0</td>\n      <td>2.0</td>\n      <td>NaN</td>\n      <td>0.0</td>\n      <td>0.0</td>\n      <td>NaN</td>\n    </tr>\n    <tr>\n      <th>1</th>\n      <td>Aruba</td>\n      <td>2020-03-19</td>\n      <td>NaN</td>\n      <td>NaN</td>\n      <td>0.286</td>\n      <td>NaN</td>\n      <td>NaN</td>\n      <td>0.0</td>\n    </tr>\n    <tr>\n      <th>2</th>\n      <td>Aruba</td>\n      <td>2020-03-20</td>\n      <td>4.0</td>\n      <td>2.0</td>\n      <td>0.286</td>\n      <td>0.0</td>\n      <td>0.0</td>\n      <td>0.0</td>\n    </tr>\n    <tr>\n      <th>3</th>\n      <td>Aruba</td>\n      <td>2020-03-21</td>\n      <td>NaN</td>\n      <td>NaN</td>\n      <td>0.286</td>\n      <td>NaN</td>\n      <td>NaN</td>\n      <td>0.0</td>\n    </tr>\n    <tr>\n      <th>4</th>\n      <td>Aruba</td>\n      <td>2020-03-22</td>\n      <td>NaN</td>\n      <td>NaN</td>\n      <td>0.286</td>\n      <td>NaN</td>\n      <td>NaN</td>\n      <td>0.0</td>\n    </tr>\n    <tr>\n      <th>...</th>\n      <td>...</td>\n      <td>...</td>\n      <td>...</td>\n      <td>...</td>\n      <td>...</td>\n      <td>...</td>\n      <td>...</td>\n      <td>...</td>\n    </tr>\n    <tr>\n      <th>49873</th>\n      <td>International</td>\n      <td>2020-10-09</td>\n      <td>696.0</td>\n      <td>NaN</td>\n      <td>NaN</td>\n      <td>7.0</td>\n      <td>NaN</td>\n      <td>NaN</td>\n    </tr>\n    <tr>\n      <th>49874</th>\n      <td>International</td>\n      <td>2020-10-10</td>\n      <td>696.0</td>\n      <td>NaN</td>\n      <td>NaN</td>\n      <td>7.0</td>\n      <td>NaN</td>\n      <td>NaN</td>\n    </tr>\n    <tr>\n      <th>49875</th>\n      <td>International</td>\n      <td>2020-10-11</td>\n      <td>696.0</td>\n      <td>NaN</td>\n      <td>NaN</td>\n      <td>7.0</td>\n      <td>NaN</td>\n      <td>NaN</td>\n    </tr>\n    <tr>\n      <th>49876</th>\n      <td>International</td>\n      <td>2020-10-12</td>\n      <td>696.0</td>\n      <td>NaN</td>\n      <td>NaN</td>\n      <td>7.0</td>\n      <td>NaN</td>\n      <td>NaN</td>\n    </tr>\n    <tr>\n      <th>49877</th>\n      <td>International</td>\n      <td>2020-10-13</td>\n      <td>696.0</td>\n      <td>NaN</td>\n      <td>NaN</td>\n      <td>7.0</td>\n      <td>NaN</td>\n      <td>NaN</td>\n    </tr>\n  </tbody>\n</table>\n<p>49878 rows × 8 columns</p>\n</div>"
     },
     "metadata": {},
     "execution_count": 190
    }
   ],
   "source": [
    "df[['location', 'date', 'total_cases', 'new_cases', 'new_cases_smoothed', 'total_deaths', 'new_deaths', 'new_deaths_smoothed']]"
   ]
  },
  {
   "cell_type": "code",
   "execution_count": 4,
   "metadata": {},
   "outputs": [
    {
     "output_type": "execute_result",
     "data": {
      "text/plain": [
       "      iso_code      continent       location        date  total_cases  \\\n",
       "0          ABW  North America          Aruba  2020-03-13          2.0   \n",
       "1          ABW  North America          Aruba  2020-03-19          NaN   \n",
       "2          ABW  North America          Aruba  2020-03-20          4.0   \n",
       "3          ABW  North America          Aruba  2020-03-21          NaN   \n",
       "4          ABW  North America          Aruba  2020-03-22          NaN   \n",
       "...        ...            ...            ...         ...          ...   \n",
       "49873      NaN            NaN  International  2020-10-09        696.0   \n",
       "49874      NaN            NaN  International  2020-10-10        696.0   \n",
       "49875      NaN            NaN  International  2020-10-11        696.0   \n",
       "49876      NaN            NaN  International  2020-10-12        696.0   \n",
       "49877      NaN            NaN  International  2020-10-13        696.0   \n",
       "\n",
       "       new_cases  new_cases_smoothed  total_deaths  new_deaths  \\\n",
       "0            2.0                 NaN           0.0         0.0   \n",
       "1            NaN               0.286           NaN         NaN   \n",
       "2            2.0               0.286           0.0         0.0   \n",
       "3            NaN               0.286           NaN         NaN   \n",
       "4            NaN               0.286           NaN         NaN   \n",
       "...          ...                 ...           ...         ...   \n",
       "49873        NaN                 NaN           7.0         NaN   \n",
       "49874        NaN                 NaN           7.0         NaN   \n",
       "49875        NaN                 NaN           7.0         NaN   \n",
       "49876        NaN                 NaN           7.0         NaN   \n",
       "49877        NaN                 NaN           7.0         NaN   \n",
       "\n",
       "       new_deaths_smoothed  ...  gdp_per_capita  extreme_poverty  \\\n",
       "0                      NaN  ...       35973.781              NaN   \n",
       "1                      0.0  ...       35973.781              NaN   \n",
       "2                      0.0  ...       35973.781              NaN   \n",
       "3                      0.0  ...       35973.781              NaN   \n",
       "4                      0.0  ...       35973.781              NaN   \n",
       "...                    ...  ...             ...              ...   \n",
       "49873                  NaN  ...             NaN              NaN   \n",
       "49874                  NaN  ...             NaN              NaN   \n",
       "49875                  NaN  ...             NaN              NaN   \n",
       "49876                  NaN  ...             NaN              NaN   \n",
       "49877                  NaN  ...             NaN              NaN   \n",
       "\n",
       "       cardiovasc_death_rate  diabetes_prevalence  female_smokers  \\\n",
       "0                        NaN                11.62             NaN   \n",
       "1                        NaN                11.62             NaN   \n",
       "2                        NaN                11.62             NaN   \n",
       "3                        NaN                11.62             NaN   \n",
       "4                        NaN                11.62             NaN   \n",
       "...                      ...                  ...             ...   \n",
       "49873                    NaN                  NaN             NaN   \n",
       "49874                    NaN                  NaN             NaN   \n",
       "49875                    NaN                  NaN             NaN   \n",
       "49876                    NaN                  NaN             NaN   \n",
       "49877                    NaN                  NaN             NaN   \n",
       "\n",
       "       male_smokers  handwashing_facilities  hospital_beds_per_thousand  \\\n",
       "0               NaN                     NaN                         NaN   \n",
       "1               NaN                     NaN                         NaN   \n",
       "2               NaN                     NaN                         NaN   \n",
       "3               NaN                     NaN                         NaN   \n",
       "4               NaN                     NaN                         NaN   \n",
       "...             ...                     ...                         ...   \n",
       "49873           NaN                     NaN                         NaN   \n",
       "49874           NaN                     NaN                         NaN   \n",
       "49875           NaN                     NaN                         NaN   \n",
       "49876           NaN                     NaN                         NaN   \n",
       "49877           NaN                     NaN                         NaN   \n",
       "\n",
       "       life_expectancy  human_development_index  \n",
       "0                76.29                      NaN  \n",
       "1                76.29                      NaN  \n",
       "2                76.29                      NaN  \n",
       "3                76.29                      NaN  \n",
       "4                76.29                      NaN  \n",
       "...                ...                      ...  \n",
       "49873              NaN                      NaN  \n",
       "49874              NaN                      NaN  \n",
       "49875              NaN                      NaN  \n",
       "49876              NaN                      NaN  \n",
       "49877              NaN                      NaN  \n",
       "\n",
       "[49878 rows x 41 columns]"
      ],
      "text/html": "<div>\n<style scoped>\n    .dataframe tbody tr th:only-of-type {\n        vertical-align: middle;\n    }\n\n    .dataframe tbody tr th {\n        vertical-align: top;\n    }\n\n    .dataframe thead th {\n        text-align: right;\n    }\n</style>\n<table border=\"1\" class=\"dataframe\">\n  <thead>\n    <tr style=\"text-align: right;\">\n      <th></th>\n      <th>iso_code</th>\n      <th>continent</th>\n      <th>location</th>\n      <th>date</th>\n      <th>total_cases</th>\n      <th>new_cases</th>\n      <th>new_cases_smoothed</th>\n      <th>total_deaths</th>\n      <th>new_deaths</th>\n      <th>new_deaths_smoothed</th>\n      <th>...</th>\n      <th>gdp_per_capita</th>\n      <th>extreme_poverty</th>\n      <th>cardiovasc_death_rate</th>\n      <th>diabetes_prevalence</th>\n      <th>female_smokers</th>\n      <th>male_smokers</th>\n      <th>handwashing_facilities</th>\n      <th>hospital_beds_per_thousand</th>\n      <th>life_expectancy</th>\n      <th>human_development_index</th>\n    </tr>\n  </thead>\n  <tbody>\n    <tr>\n      <th>0</th>\n      <td>ABW</td>\n      <td>North America</td>\n      <td>Aruba</td>\n      <td>2020-03-13</td>\n      <td>2.0</td>\n      <td>2.0</td>\n      <td>NaN</td>\n      <td>0.0</td>\n      <td>0.0</td>\n      <td>NaN</td>\n      <td>...</td>\n      <td>35973.781</td>\n      <td>NaN</td>\n      <td>NaN</td>\n      <td>11.62</td>\n      <td>NaN</td>\n      <td>NaN</td>\n      <td>NaN</td>\n      <td>NaN</td>\n      <td>76.29</td>\n      <td>NaN</td>\n    </tr>\n    <tr>\n      <th>1</th>\n      <td>ABW</td>\n      <td>North America</td>\n      <td>Aruba</td>\n      <td>2020-03-19</td>\n      <td>NaN</td>\n      <td>NaN</td>\n      <td>0.286</td>\n      <td>NaN</td>\n      <td>NaN</td>\n      <td>0.0</td>\n      <td>...</td>\n      <td>35973.781</td>\n      <td>NaN</td>\n      <td>NaN</td>\n      <td>11.62</td>\n      <td>NaN</td>\n      <td>NaN</td>\n      <td>NaN</td>\n      <td>NaN</td>\n      <td>76.29</td>\n      <td>NaN</td>\n    </tr>\n    <tr>\n      <th>2</th>\n      <td>ABW</td>\n      <td>North America</td>\n      <td>Aruba</td>\n      <td>2020-03-20</td>\n      <td>4.0</td>\n      <td>2.0</td>\n      <td>0.286</td>\n      <td>0.0</td>\n      <td>0.0</td>\n      <td>0.0</td>\n      <td>...</td>\n      <td>35973.781</td>\n      <td>NaN</td>\n      <td>NaN</td>\n      <td>11.62</td>\n      <td>NaN</td>\n      <td>NaN</td>\n      <td>NaN</td>\n      <td>NaN</td>\n      <td>76.29</td>\n      <td>NaN</td>\n    </tr>\n    <tr>\n      <th>3</th>\n      <td>ABW</td>\n      <td>North America</td>\n      <td>Aruba</td>\n      <td>2020-03-21</td>\n      <td>NaN</td>\n      <td>NaN</td>\n      <td>0.286</td>\n      <td>NaN</td>\n      <td>NaN</td>\n      <td>0.0</td>\n      <td>...</td>\n      <td>35973.781</td>\n      <td>NaN</td>\n      <td>NaN</td>\n      <td>11.62</td>\n      <td>NaN</td>\n      <td>NaN</td>\n      <td>NaN</td>\n      <td>NaN</td>\n      <td>76.29</td>\n      <td>NaN</td>\n    </tr>\n    <tr>\n      <th>4</th>\n      <td>ABW</td>\n      <td>North America</td>\n      <td>Aruba</td>\n      <td>2020-03-22</td>\n      <td>NaN</td>\n      <td>NaN</td>\n      <td>0.286</td>\n      <td>NaN</td>\n      <td>NaN</td>\n      <td>0.0</td>\n      <td>...</td>\n      <td>35973.781</td>\n      <td>NaN</td>\n      <td>NaN</td>\n      <td>11.62</td>\n      <td>NaN</td>\n      <td>NaN</td>\n      <td>NaN</td>\n      <td>NaN</td>\n      <td>76.29</td>\n      <td>NaN</td>\n    </tr>\n    <tr>\n      <th>...</th>\n      <td>...</td>\n      <td>...</td>\n      <td>...</td>\n      <td>...</td>\n      <td>...</td>\n      <td>...</td>\n      <td>...</td>\n      <td>...</td>\n      <td>...</td>\n      <td>...</td>\n      <td>...</td>\n      <td>...</td>\n      <td>...</td>\n      <td>...</td>\n      <td>...</td>\n      <td>...</td>\n      <td>...</td>\n      <td>...</td>\n      <td>...</td>\n      <td>...</td>\n      <td>...</td>\n    </tr>\n    <tr>\n      <th>49873</th>\n      <td>NaN</td>\n      <td>NaN</td>\n      <td>International</td>\n      <td>2020-10-09</td>\n      <td>696.0</td>\n      <td>NaN</td>\n      <td>NaN</td>\n      <td>7.0</td>\n      <td>NaN</td>\n      <td>NaN</td>\n      <td>...</td>\n      <td>NaN</td>\n      <td>NaN</td>\n      <td>NaN</td>\n      <td>NaN</td>\n      <td>NaN</td>\n      <td>NaN</td>\n      <td>NaN</td>\n      <td>NaN</td>\n      <td>NaN</td>\n      <td>NaN</td>\n    </tr>\n    <tr>\n      <th>49874</th>\n      <td>NaN</td>\n      <td>NaN</td>\n      <td>International</td>\n      <td>2020-10-10</td>\n      <td>696.0</td>\n      <td>NaN</td>\n      <td>NaN</td>\n      <td>7.0</td>\n      <td>NaN</td>\n      <td>NaN</td>\n      <td>...</td>\n      <td>NaN</td>\n      <td>NaN</td>\n      <td>NaN</td>\n      <td>NaN</td>\n      <td>NaN</td>\n      <td>NaN</td>\n      <td>NaN</td>\n      <td>NaN</td>\n      <td>NaN</td>\n      <td>NaN</td>\n    </tr>\n    <tr>\n      <th>49875</th>\n      <td>NaN</td>\n      <td>NaN</td>\n      <td>International</td>\n      <td>2020-10-11</td>\n      <td>696.0</td>\n      <td>NaN</td>\n      <td>NaN</td>\n      <td>7.0</td>\n      <td>NaN</td>\n      <td>NaN</td>\n      <td>...</td>\n      <td>NaN</td>\n      <td>NaN</td>\n      <td>NaN</td>\n      <td>NaN</td>\n      <td>NaN</td>\n      <td>NaN</td>\n      <td>NaN</td>\n      <td>NaN</td>\n      <td>NaN</td>\n      <td>NaN</td>\n    </tr>\n    <tr>\n      <th>49876</th>\n      <td>NaN</td>\n      <td>NaN</td>\n      <td>International</td>\n      <td>2020-10-12</td>\n      <td>696.0</td>\n      <td>NaN</td>\n      <td>NaN</td>\n      <td>7.0</td>\n      <td>NaN</td>\n      <td>NaN</td>\n      <td>...</td>\n      <td>NaN</td>\n      <td>NaN</td>\n      <td>NaN</td>\n      <td>NaN</td>\n      <td>NaN</td>\n      <td>NaN</td>\n      <td>NaN</td>\n      <td>NaN</td>\n      <td>NaN</td>\n      <td>NaN</td>\n    </tr>\n    <tr>\n      <th>49877</th>\n      <td>NaN</td>\n      <td>NaN</td>\n      <td>International</td>\n      <td>2020-10-13</td>\n      <td>696.0</td>\n      <td>NaN</td>\n      <td>NaN</td>\n      <td>7.0</td>\n      <td>NaN</td>\n      <td>NaN</td>\n      <td>...</td>\n      <td>NaN</td>\n      <td>NaN</td>\n      <td>NaN</td>\n      <td>NaN</td>\n      <td>NaN</td>\n      <td>NaN</td>\n      <td>NaN</td>\n      <td>NaN</td>\n      <td>NaN</td>\n      <td>NaN</td>\n    </tr>\n  </tbody>\n</table>\n<p>49878 rows × 41 columns</p>\n</div>"
     },
     "metadata": {},
     "execution_count": 4
    }
   ],
   "source": [
    "df"
   ]
  },
  {
   "cell_type": "code",
   "execution_count": 7,
   "metadata": {},
   "outputs": [],
   "source": [
    "df_small = df[['location', 'date', 'total_cases', 'new_cases', 'new_cases_smoothed', 'total_deaths', 'new_deaths', 'new_deaths_smoothed']]"
   ]
  },
  {
   "cell_type": "code",
   "execution_count": 9,
   "metadata": {},
   "outputs": [],
   "source": [
    "df_small.to_json('covid.json', orient='split')"
   ]
  }
 ]
}